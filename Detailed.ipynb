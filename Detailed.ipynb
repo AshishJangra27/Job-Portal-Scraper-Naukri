{
 "cells": [
  {
   "cell_type": "code",
   "execution_count": 9,
   "id": "81f203e6",
   "metadata": {},
   "outputs": [],
   "source": [
    "from selenium import webdriver\n",
    "from selenium.webdriver.chrome.service import Service\n",
    "from selenium.webdriver.common.by import By\n",
    "\n",
    "import chromedriver_binary\n",
    "\n",
    "url = \"https://www.naukri.com/job-listings-sr-analyst-data-science-and-analytics-transunion-software-services-pvt-ltd-pune-chennai-5-to-8-years-290623501296\"\n",
    "\n",
    "driver = webdriver.Chrome()\n",
    "\n",
    "driver.get(url)\n",
    "\n",
    "try:\n",
    "\n",
    "    job_title = driver.find_element(By.XPATH, \"//h1[contains(@class, 'jd-header-title')]\").text\n",
    "    company_name = driver.find_element(By.XPATH, \"//a[contains(@class, 'pad-rt-8')]\").text\n",
    "    job_location = driver.find_element(By.XPATH, \"//span[contains(@class, 'location ')][1]\").text\n",
    "    experience_required = driver.find_element(By.XPATH, \"//div[contains(text(), 'Experience')]/following-sibling::div\").text\n",
    "\n",
    "    # Print the extracted information\n",
    "    print(\"Job Title:\", job_title)\n",
    "    print(\"Company Name:\", company_name)\n",
    "    print(\"Job Location:\", job_location)\n",
    "    print(\"Experience Required:\", experience_required)\n",
    "except:\n",
    "    pass\n",
    "driver.quit()"
   ]
  },
  {
   "cell_type": "code",
   "execution_count": 11,
   "id": "f734d79e",
   "metadata": {},
   "outputs": [
    {
     "ename": "NameError",
     "evalue": "name 'company_name' is not defined",
     "output_type": "error",
     "traceback": [
      "\u001b[0;31m---------------------------------------------------------------------------\u001b[0m",
      "\u001b[0;31mNameError\u001b[0m                                 Traceback (most recent call last)",
      "\u001b[0;32m/var/folders/rq/lwddjvtn5n9gjw05hwrg3hp80000gp/T/ipykernel_81127/3748422130.py\u001b[0m in \u001b[0;36m<module>\u001b[0;34m\u001b[0m\n\u001b[0;32m----> 1\u001b[0;31m \u001b[0mcompany_name\u001b[0m\u001b[0;34m\u001b[0m\u001b[0;34m\u001b[0m\u001b[0m\n\u001b[0m",
      "\u001b[0;31mNameError\u001b[0m: name 'company_name' is not defined"
     ]
    }
   ],
   "source": [
    "company_name"
   ]
  },
  {
   "cell_type": "code",
   "execution_count": null,
   "id": "5e7640b0",
   "metadata": {},
   "outputs": [],
   "source": []
  }
 ],
 "metadata": {
  "kernelspec": {
   "display_name": "Python 3 (ipykernel)",
   "language": "python",
   "name": "python3"
  },
  "language_info": {
   "codemirror_mode": {
    "name": "ipython",
    "version": 3
   },
   "file_extension": ".py",
   "mimetype": "text/x-python",
   "name": "python",
   "nbconvert_exporter": "python",
   "pygments_lexer": "ipython3",
   "version": "3.9.16"
  }
 },
 "nbformat": 4,
 "nbformat_minor": 5
}
